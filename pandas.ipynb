{
 "cells": [
  {
   "cell_type": "code",
   "execution_count": 1,
   "id": "f923820e-1aac-40bd-9320-3e17a8eb5dce",
   "metadata": {},
   "outputs": [
    {
     "name": "stdout",
     "output_type": "stream",
     "text": [
      "Flour     4 cups\n",
      "Milk       1 cup\n",
      "Eggs     2 large\n",
      "Spam       1 can\n",
      "Name: Dinner, dtype: object\n"
     ]
    }
   ],
   "source": [
    "import pandas as pd\n",
    "\n",
    "data = {\n",
    "    'Flour': '4 cups',\n",
    "    'Milk': '1 cup',\n",
    "    'Eggs': '2 large',\n",
    "    'Spam': '1 can'\n",
    "}\n",
    "\n",
    "ingredients = pd.Series(data, name='Dinner')\n",
    "print(ingredients)\n"
   ]
  },
  {
   "cell_type": "code",
   "execution_count": 3,
   "id": "82b290d3-be33-4db3-a53c-f820fa0cb7f4",
   "metadata": {},
   "outputs": [
    {
     "ename": "SyntaxError",
     "evalue": "invalid syntax (3410242533.py, line 1)",
     "output_type": "error",
     "traceback": [
      "\u001b[1;36m  Cell \u001b[1;32mIn[3], line 1\u001b[1;36m\u001b[0m\n\u001b[1;33m    Copy code\u001b[0m\n\u001b[1;37m         ^\u001b[0m\n\u001b[1;31mSyntaxError\u001b[0m\u001b[1;31m:\u001b[0m invalid syntax\n"
     ]
    }
   ],
   "source": [
    "\n",
    "Copy code\n",
    "import pandas as pd\n",
    "\n",
    "# Assuming the CSV file is named \"wine_reviews.csv\" and is located in the current directory\n",
    "file_path = \"wine_reviews.csv\"\n",
    "\n",
    "# Read the CSV file into a DataFrame\n",
    "reviews = pd.read_csv(file_path)\n",
    "\n",
    "# Display the first few rows of the DataFrame to verify that it was read correctly\n",
    "print(reviews.head())"
   ]
  },
  {
   "cell_type": "code",
   "execution_count": 5,
   "id": "cf0f0888-54ad-4a3a-b5e6-b13c5b6770f3",
   "metadata": {},
   "outputs": [
    {
     "name": "stdout",
     "output_type": "stream",
     "text": [
      "Error: The file at wine_reviews.csv was not found.\n"
     ]
    }
   ],
   "source": [
    "import pandas as pd\n",
    "\n",
    "# Assuming the CSV file is named \"wine_reviews.csv\" and is located in the current directory\n",
    "file_path = \"wine_reviews.csv\"\n",
    "\n",
    "try:\n",
    "    # Read the CSV file into a DataFrame\n",
    "    reviews = pd.read_csv(file_path)\n",
    "\n",
    "    # Display the first few rows of the DataFrame to verify that it was read correctly\n",
    "    print(reviews.head())\n",
    "except FileNotFoundError:\n",
    "    print(f\"Error: The file at {file_path} was not found.\")\n",
    "except pd.errors.EmptyDataError:\n",
    "    print(\"Error: The file is empty.\")\n",
    "except pd.errors.ParserError:\n",
    "    print(\"Error: The file content is not correctly formatted as CSV.\")\n",
    "except Exception as e:\n",
    "    print(f\"An unexpected error occurred: {e}\")"
   ]
  },
  {
   "cell_type": "code",
   "execution_count": 9,
   "id": "ba535d41-ff67-4b3b-836a-f1d9d328636a",
   "metadata": {},
   "outputs": [
    {
     "data": {
      "text/html": [
       "<div>\n",
       "<style scoped>\n",
       "    .dataframe tbody tr th:only-of-type {\n",
       "        vertical-align: middle;\n",
       "    }\n",
       "\n",
       "    .dataframe tbody tr th {\n",
       "        vertical-align: top;\n",
       "    }\n",
       "\n",
       "    .dataframe thead th {\n",
       "        text-align: right;\n",
       "    }\n",
       "</style>\n",
       "<table border=\"1\" class=\"dataframe\">\n",
       "  <thead>\n",
       "    <tr style=\"text-align: right;\">\n",
       "      <th></th>\n",
       "      <th>Cows</th>\n",
       "      <th>Goats</th>\n",
       "    </tr>\n",
       "  </thead>\n",
       "  <tbody>\n",
       "    <tr>\n",
       "      <th>Year 1</th>\n",
       "      <td>12</td>\n",
       "      <td>22</td>\n",
       "    </tr>\n",
       "    <tr>\n",
       "      <th>Year 2</th>\n",
       "      <td>20</td>\n",
       "      <td>19</td>\n",
       "    </tr>\n",
       "  </tbody>\n",
       "</table>\n",
       "</div>"
      ],
      "text/plain": [
       "        Cows  Goats\n",
       "Year 1    12     22\n",
       "Year 2    20     19"
      ]
     },
     "execution_count": 9,
     "metadata": {},
     "output_type": "execute_result"
    }
   ],
   "source": [
    "animals = pd.DataFrame({'Cows': [12, 20], 'Goats': [22, 19]}, \n",
    "                       index=['Year 1', 'Year 2'])\n",
    "animals\n"
   ]
  },
  {
   "cell_type": "code",
   "execution_count": 11,
   "id": "e27b38a0-a5f0-4ba8-95a8-d6f3ba9dc1fd",
   "metadata": {},
   "outputs": [
    {
     "name": "stdout",
     "output_type": "stream",
     "text": [
      "   region_2    taster_name taster_twitter_handle  \\\n",
      "0     Italy  Kerin O’Keefe          @kerinokeefe   \n",
      "1  Portugal     Roger Voss            @vossroger   \n",
      "2    France     Roger Voss            @vossroger   \n",
      "3    France     Roger Voss            @vossroger   \n",
      "\n",
      "                           title         variety                winery  \n",
      "0                   Vulkà Bianco     White Blend               Nicosia  \n",
      "1                       Avidagos  Portuguese Red   Quinta dos Avidagos  \n",
      "2                           None      Pinot Gris  Domaine Marcel Deiss  \n",
      "3  Lieu-dit Harth Cuvée Caroline  Gewürztraminer      Domaine Schoffit  \n"
     ]
    }
   ],
   "source": [
    "import pandas as pd\n",
    "\n",
    "# Create a dictionary with the data\n",
    "data = {\n",
    "    'region_2': ['Italy', 'Portugal', 'France', 'France'],\n",
    "    'taster_name': ['Kerin O’Keefe', 'Roger Voss', 'Roger Voss', 'Roger Voss'],\n",
    "    'taster_twitter_handle': ['@kerinokeefe', '@vossroger', '@vossroger', '@vossroger'],\n",
    "    'title': ['Vulkà Bianco', 'Avidagos', None, 'Lieu-dit Harth Cuvée Caroline'],\n",
    "    'variety': ['White Blend', 'Portuguese Red', 'Pinot Gris', 'Gewürztraminer'],\n",
    "    'winery': ['Nicosia', 'Quinta dos Avidagos', 'Domaine Marcel Deiss', 'Domaine Schoffit']\n",
    "}\n",
    "\n",
    "# Create the DataFrame\n",
    "df = pd.DataFrame(data)\n",
    "\n",
    "# Display the DataFrame\n",
    "print(df)"
   ]
  },
  {
   "cell_type": "code",
   "execution_count": 15,
   "id": "6f082e00-3f3f-428a-b058-95b730c09a08",
   "metadata": {},
   "outputs": [
    {
     "name": "stdout",
     "output_type": "stream",
     "text": [
      "   region_2    taster_name taster_twitter_handle  \\\n",
      "0     Italy  Kerin O’Keefe          @kerinokeefe   \n",
      "1  Portugal     Roger Voss            @vossroger   \n",
      "2    France     Roger Voss            @vossroger   \n",
      "3    France     Roger Voss            @vossroger   \n",
      "\n",
      "                           title         variety                winery  \n",
      "0                   Vulkà Bianco     White Blend               Nicosia  \n",
      "1                       Avidagos  Portuguese Red   Quinta dos Avidagos  \n",
      "2                           None      Pinot Gris  Domaine Marcel Deiss  \n",
      "3  Lieu-dit Harth Cuvée Caroline  Gewürztraminer      Domaine Schoffit  \n",
      "Error: The file at wine_reviews.csv was not found.\n"
     ]
    }
   ],
   "source": [
    "import pandas as pd\n",
    "\n",
    "# Create a dictionary with the data\n",
    "data = {\n",
    "    'region_2': ['Italy', 'Portugal', 'France', 'France'],\n",
    "    'taster_name': ['Kerin O’Keefe', 'Roger Voss', 'Roger Voss', 'Roger Voss'],\n",
    "    'taster_twitter_handle': ['@kerinokeefe', '@vossroger', '@vossroger', '@vossroger'],\n",
    "    'title': ['Vulkà Bianco', 'Avidagos', None, 'Lieu-dit Harth Cuvée Caroline'],\n",
    "    'variety': ['White Blend', 'Portuguese Red', 'Pinot Gris', 'Gewürztraminer'],\n",
    "    'winery': ['Nicosia', 'Quinta dos Avidagos', 'Domaine Marcel Deiss', 'Domaine Schoffit']\n",
    "}\n",
    "\n",
    "# Create the DataFrame\n",
    "df = pd.DataFrame(data)\n",
    "\n",
    "# Display the DataFrame\n",
    "print(df)\n",
    "\n",
    "# Read the CSV file into a DataFrame\n",
    "file_path = \"wine_reviews.csv\"  # Make sure this path is correct\n",
    "\n",
    "try:\n",
    "    reviews = pd.read_csv(file_path)\n",
    "    # Display the DataFrame\n",
    "    print(reviews[['region_2', 'taster_name', 'taster_twitter_handle', 'title', 'variety', 'winery']])\n",
    "except FileNotFoundError:\n",
    "    print(f\"Error: The file at {file_path} was not found.\")\n",
    "except pd.errors.EmptyDataError:\n",
    "    print(\"Error: The file is empty.\")\n",
    "except pd.errors.ParserError:\n",
    "    print(\"Error: The file content is not correctly formatted as CSV.\")\n",
    "except Exception as e:\n",
    "    print(f\"An unexpected error occurred: {e}\")"
   ]
  },
  {
   "cell_type": "code",
   "execution_count": null,
   "id": "2ffc3f5c-5e71-499e-9763-99d7fde02a67",
   "metadata": {},
   "outputs": [],
   "source": []
  }
 ],
 "metadata": {
  "kernelspec": {
   "display_name": "Python 3 (ipykernel)",
   "language": "python",
   "name": "python3"
  },
  "language_info": {
   "codemirror_mode": {
    "name": "ipython",
    "version": 3
   },
   "file_extension": ".py",
   "mimetype": "text/x-python",
   "name": "python",
   "nbconvert_exporter": "python",
   "pygments_lexer": "ipython3",
   "version": "3.11.7"
  }
 },
 "nbformat": 4,
 "nbformat_minor": 5
}
